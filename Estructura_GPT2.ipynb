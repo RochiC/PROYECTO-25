{
 "cells": [
  {
   "cell_type": "code",
   "execution_count": null,
   "metadata": {},
   "outputs": [],
   "source": [
    "# pagina hugging face:  https://huggingface.co/docs/transformers/model_doc/gpt2\n",
    "\n",
    "model.save_pretrained(\"./gpt2-smiles\")\n",
    "tokenizer.save_pretrained(\"./gpt2-smiles\")  #Guardo el modelo y tokenizer\n",
    "\n",
    "# terminal: echo -e \"Hello, I'm a language model\" | transformers run --task text-generation --model openai-community/gpt2 --device 0\n",
    "\n"
   ]
  },
  {
   "cell_type": "code",
   "execution_count": null,
   "metadata": {},
   "outputs": [],
   "source": [
    "import torch\n",
    "from transformers import AutoModelForCausalLM, AutoTokenizer, BitsAndBytesConfig, pipeline\n",
    "\n",
    "quantization_config = BitsAndBytesConfig(\n",
    "    load_in_4bit=True,\n",
    "    bnb_4bit_quant_type=\"nf4\",\n",
    "    bnb_4bit_compute_dtype=\"float16\",\n",
    "    bnb_4bit_use_double_quant=True\n",
    ")\n",
    "\n",
    "model = AutoModelForCausalLM.from_pretrained(\n",
    "    \"openai-community/gpt2-xl\",\n",
    "    quantization_config=quantization_config,\n",
    "    device_map=\"auto\"\n",
    ")\n",
    "\n",
    "tokenizer = AutoTokenizer.from_pretrained(\"openai-community/gpt2-xl\")\n",
    "inputs = tokenizer(\"Once upon a time, there was a magical forest\", return_tensors=\"pt\").to(\"cuda\")\n",
    "outputs = model.generate(**inputs, max_new_tokens=100)\n",
    "print(tokenizer.decode(outputs[0], skip_special_tokens=True))"
   ]
  },
  {
   "cell_type": "code",
   "execution_count": null,
   "metadata": {},
   "outputs": [],
   "source": [
    "#CONFIGURACIÓN DEL MODELO \n",
    "\n",
    "from transformers import GPT2Config, GPT2LMHeadModel, AutoTokenizer\n",
    "import torch, math, json\n",
    "\n",
    "tok = AutoTokenizer.from_pretrained(\"usuario/smiles-tokenizer\",\n",
    "                                    padding_side=\"right\")\n",
    "tok.add_special_tokens({\"pad_token\": \"[PAD]\"})   # si no lo trae\n",
    "\n",
    "max_len = 256          # longitud SMILES 99‑percentil en tu dataset\n",
    "d_model = 768          # → 12 cabezas de 64 d cada una\n",
    "\n",
    "config = GPT2Config(   #parámetros\n",
    "    vocab_size      = tok.vocab_size,\n",
    "    n_positions     = max_len,          # Es la longitud máxima de secuencia con la q se podria usar el modelo \n",
    "    n_ctx           = max_len,          # alias conservado por backward‑compat\n",
    "    n_embd          = d_model,          \n",
    "    n_layer         = 12,               # profundidad\n",
    "    n_head          = 12,               # d_model/n_head debe ser entero\n",
    "    n_inner         = 4*d_model,        # feed‑forward (por defecto)\n",
    "    activation_function = \"gelu_new\",\n",
    "    resid_pdrop     = 0.1, \n",
    "    embd_pdrop      = 0.1,\n",
    "    attn_pdrop      = 0.1,\n",
    "    layer_norm_epsilon = 1e-5,\n",
    "    bos_token_id    = tok.bos_token_id,\n",
    "    eos_token_id    = tok.eos_token_id,\n",
    "    pad_token_id    = tok.pad_token_id, # importante para loss masking\n",
    "    use_cache       = True              # ↑ útil en generación\n",
    ")\n",
    "\n",
    "model = GPT2LMHeadModel(config)\n",
    "model.resize_token_embeddings(tok.vocab_size)    # por si el tokenizer creció\n"
   ]
  },
  {
   "cell_type": "code",
   "execution_count": null,
   "metadata": {},
   "outputs": [],
   "source": [
    "# CUANTIFICAR EL MODELO PARA REDUCIR CARGA DE MEMORIA BY PESOS DE MENOR PRESICION "
   ]
  }
 ],
 "metadata": {
  "language_info": {
   "name": "plaintext"
  },
  "orig_nbformat": 4
 },
 "nbformat": 4,
 "nbformat_minor": 2
}
