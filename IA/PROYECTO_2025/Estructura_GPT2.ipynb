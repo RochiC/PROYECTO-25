{
 "cells": [
  {
   "cell_type": "code",
   "execution_count": 3,
   "metadata": {},
   "outputs": [
    {
     "ename": "ModuleNotFoundError",
     "evalue": "No module named 'transformers'",
     "output_type": "error",
     "traceback": [
      "\u001b[31m---------------------------------------------------------------------------\u001b[39m",
      "\u001b[31mModuleNotFoundError\u001b[39m                       Traceback (most recent call last)",
      "\u001b[36mCell\u001b[39m\u001b[36m \u001b[39m\u001b[32mIn[3]\u001b[39m\u001b[32m, line 1\u001b[39m\n\u001b[32m----> \u001b[39m\u001b[32m1\u001b[39m \u001b[38;5;28;01mfrom\u001b[39;00m\u001b[38;5;250m \u001b[39m\u001b[34;01mtransformers\u001b[39;00m\u001b[38;5;250m \u001b[39m\u001b[38;5;28;01mimport\u001b[39;00m GPT2Config, GPT2LMHeadModel, AutoTokenizer\n\u001b[32m      2\u001b[39m \u001b[38;5;28;01mimport\u001b[39;00m\u001b[38;5;250m \u001b[39m\u001b[34;01mtorch\u001b[39;00m\n",
      "\u001b[31mModuleNotFoundError\u001b[39m: No module named 'transformers'"
     ]
    }
   ],
   "source": [
    "from transformers import GPT2Config, GPT2LMHeadModel, AutoTokenizer\n",
    "import torch"
   ]
  },
  {
   "cell_type": "code",
   "execution_count": null,
   "metadata": {},
   "outputs": [],
   "source": [
    "#TOKENIZER Y PARÁMETROS INICIALES\n",
    "tok = AutoTokenizer.from_pretrained(\"usuario/smiles-tokenizer\", padding_side=\"right\")\n",
    "tok.add_special_tokens({\"pad_token\": \"[PAD]\"})"
   ]
  },
  {
   "cell_type": "code",
   "execution_count": 1,
   "metadata": {},
   "outputs": [],
   "source": [
    "# PARÁMETROS DEL MODELO\n",
    "max_len = 256  #longitud max de sencuencias SMILES\n",
    "d_model = 768  #dimensión del espacio de los embeddings "
   ]
  },
  {
   "cell_type": "code",
   "execution_count": null,
   "metadata": {},
   "outputs": [],
   "source": [
    "#ARQUITECTURA DEL GPT-2\n",
    "\n",
    "config = GPT2Config(\n",
    "    vocab_size=tok.vocab_size,\n",
    "    n_positions=max_len,\n",
    "    n_ctx=max_len,\n",
    "    n_embd=d_model,\n",
    "    n_layer=12,\n",
    "    n_head=12,\n",
    "    n_inner=4*d_model,\n",
    "    activation_function=\"gelu_new\",\n",
    "    resid_pdrop=0.1,\n",
    "    embd_pdrop=0.1,\n",
    "    attn_pdrop=0.1,\n",
    "    layer_norm_epsilon=1e-5,\n",
    "    bos_token_id=tok.bos_token_id,\n",
    "    eos_token_id=tok.eos_token_id,\n",
    "    pad_token_id=tok.pad_token_id,\n",
    "    use_cache=True\n",
    ")"
   ]
  },
  {
   "cell_type": "code",
   "execution_count": null,
   "metadata": {},
   "outputs": [
    {
     "ename": "NameError",
     "evalue": "name 'GPT2LMHeadModel' is not defined",
     "output_type": "error",
     "traceback": [
      "\u001b[31m---------------------------------------------------------------------------\u001b[39m",
      "\u001b[31mNameError\u001b[39m                                 Traceback (most recent call last)",
      "\u001b[36mCell\u001b[39m\u001b[36m \u001b[39m\u001b[32mIn[2]\u001b[39m\u001b[32m, line 1\u001b[39m\n\u001b[32m----> \u001b[39m\u001b[32m1\u001b[39m model = \u001b[43mGPT2LMHeadModel\u001b[49m(config)\n\u001b[32m      2\u001b[39m model.resize_token_embeddings(tok.vocab_size)    \u001b[38;5;66;03m# por si el tokenizer creció\u001b[39;00m\n",
      "\u001b[31mNameError\u001b[39m: name 'GPT2LMHeadModel' is not defined"
     ]
    }
   ],
   "source": [
    "# crear modelo GPt-2\n",
    "model = GPT2LMHeadModel(config) #con la estructura de arriba creo el modelo \n",
    "model.resize_token_embeddings(tok.vocab_size)  #se asegura que la capa de los embeddings se adapte al tokenizer, por si el tokenizer creció y haya nuevos tokens como PAD"
   ]
  },
  {
   "cell_type": "code",
   "execution_count": null,
   "metadata": {},
   "outputs": [
    {
     "ename": "NameError",
     "evalue": "name 'model' is not defined",
     "output_type": "error",
     "traceback": [
      "\u001b[31m---------------------------------------------------------------------------\u001b[39m",
      "\u001b[31mNameError\u001b[39m                                 Traceback (most recent call last)",
      "\u001b[36mCell\u001b[39m\u001b[36m \u001b[39m\u001b[32mIn[1]\u001b[39m\u001b[32m, line 3\u001b[39m\n\u001b[32m      1\u001b[39m \u001b[38;5;66;03m# pagina hugging face:  https://huggingface.co/docs/transformers/model_doc/gpt2\u001b[39;00m\n\u001b[32m----> \u001b[39m\u001b[32m3\u001b[39m \u001b[43mmodel\u001b[49m.save_pretrained(\u001b[33m\"\u001b[39m\u001b[33m./gpt2-smiles\u001b[39m\u001b[33m\"\u001b[39m)\n\u001b[32m      4\u001b[39m tokenizer.save_pretrained(\u001b[33m\"\u001b[39m\u001b[33m./gpt2-smiles\u001b[39m\u001b[33m\"\u001b[39m)  \u001b[38;5;66;03m#Guardo el modelo y tokenizer\u001b[39;00m\n\u001b[32m      6\u001b[39m \u001b[38;5;66;03m# terminal: echo -e \"Hello, I'm a language model\" | transformers run --task text-generation --model openai-community/gpt2 --device 0\u001b[39;00m\n",
      "\u001b[31mNameError\u001b[39m: name 'model' is not defined"
     ]
    }
   ],
   "source": [
    "model.save_pretrained(\"./gpt2-smiles\")\n",
    "tokenizer.save_pretrained(\"./gpt2-smiles\")  #Guardo el modelo y tokenizer\n",
    "\n"
   ]
  },
  {
   "cell_type": "code",
   "execution_count": null,
   "metadata": {},
   "outputs": [],
   "source": [
    "# CUANTIFICAR EL MODELO PARA REDUCIR CARGA DE MEMORIA BY PESOS DE MENOR PRESICION "
   ]
  }
 ],
 "metadata": {
  "kernelspec": {
   "display_name": "Python 3",
   "language": "python",
   "name": "python3"
  },
  "language_info": {
   "codemirror_mode": {
    "name": "ipython",
    "version": 3
   },
   "file_extension": ".py",
   "mimetype": "text/x-python",
   "name": "python",
   "nbconvert_exporter": "python",
   "pygments_lexer": "ipython3",
   "version": "3.13.4"
  },
  "orig_nbformat": 4
 },
 "nbformat": 4,
 "nbformat_minor": 2
}
